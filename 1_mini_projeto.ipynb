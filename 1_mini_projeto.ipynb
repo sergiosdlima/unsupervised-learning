{
  "nbformat": 4,
  "nbformat_minor": 0,
  "metadata": {
    "colab": {
      "name": "1-mini-projeto.ipynb",
      "provenance": [],
      "collapsed_sections": [],
      "authorship_tag": "ABX9TyNRE8/Vn0rlajDvxDqcP7y+",
      "include_colab_link": true
    },
    "kernelspec": {
      "name": "python3",
      "display_name": "Python 3"
    }
  },
  "cells": [
    {
      "cell_type": "markdown",
      "metadata": {
        "id": "view-in-github",
        "colab_type": "text"
      },
      "source": [
        "<a href=\"https://colab.research.google.com/github/sergiosdlima/unsupervised-learning/blob/main/1_mini_projeto.ipynb\" target=\"_parent\"><img src=\"https://colab.research.google.com/assets/colab-badge.svg\" alt=\"Open In Colab\"/></a>"
      ]
    },
    {
      "cell_type": "code",
      "metadata": {
        "id": "dDLduhWyrzmE"
      },
      "source": [
        "from sklearn.cluster import KMeans\n",
        "import numpy as np\n",
        "import random"
      ],
      "execution_count": 1,
      "outputs": []
    },
    {
      "cell_type": "code",
      "metadata": {
        "colab": {
          "base_uri": "https://localhost:8080/"
        },
        "id": "ADS7ajJZv7TR",
        "outputId": "42f34497-463c-49fe-a118-30d46b289098"
      },
      "source": [
        "X = np.array([[1, 2], [1, 4], [1, 0], [10, 2], [10, 4], [10, 0]])\n",
        "kmeans = KMeans(n_clusters=2, random_state=0).fit(X)\n",
        "kmeans.labels_"
      ],
      "execution_count": 2,
      "outputs": [
        {
          "output_type": "execute_result",
          "data": {
            "text/plain": [
              "array([1, 1, 1, 0, 0, 0], dtype=int32)"
            ]
          },
          "metadata": {
            "tags": []
          },
          "execution_count": 2
        }
      ]
    },
    {
      "cell_type": "code",
      "metadata": {
        "colab": {
          "base_uri": "https://localhost:8080/"
        },
        "id": "8PshtZIXwHGE",
        "outputId": "bfd2f745-65ff-409f-95ed-c0ab34981d2b"
      },
      "source": [
        "kmeans.predict([[0, 0], [12, 3]])"
      ],
      "execution_count": 3,
      "outputs": [
        {
          "output_type": "execute_result",
          "data": {
            "text/plain": [
              "array([1, 0], dtype=int32)"
            ]
          },
          "metadata": {
            "tags": []
          },
          "execution_count": 3
        }
      ]
    },
    {
      "cell_type": "code",
      "metadata": {
        "colab": {
          "base_uri": "https://localhost:8080/"
        },
        "id": "ZpnZq50-wJ2_",
        "outputId": "2cf53fbc-8837-4e69-9c9c-107301be7324"
      },
      "source": [
        "kmeans.cluster_centers_"
      ],
      "execution_count": 4,
      "outputs": [
        {
          "output_type": "execute_result",
          "data": {
            "text/plain": [
              "array([[10.,  2.],\n",
              "       [ 1.,  2.]])"
            ]
          },
          "metadata": {
            "tags": []
          },
          "execution_count": 4
        }
      ]
    },
    {
      "cell_type": "code",
      "metadata": {
        "id": "H4XNT-fiuyP_"
      },
      "source": [
        "# fit_k_means(pontos, parada, max_iter) Retorne os centroids finais."
      ],
      "execution_count": 5,
      "outputs": []
    },
    {
      "cell_type": "code",
      "metadata": {
        "id": "K1rjoFTGEONY"
      },
      "source": [
        "def pick_random_itens(array, size=1):\n",
        "  a = np.arange(len(array))\n",
        "  choices = np.random.choice(a, size=size, replace=False)\n",
        "  return array[choices]\n",
        "\n",
        "def euclidean_distance(p1, p2):\n",
        "  dim, sum = len(p1), 0\n",
        "  for i in range(dim):\n",
        "    sum += math.pow(p1[i] - p2[i], 2)\n",
        "  return math.sqrt(sum)"
      ],
      "execution_count": 6,
      "outputs": []
    },
    {
      "cell_type": "code",
      "metadata": {
        "id": "FH61ikPF5q0W"
      },
      "source": [
        "def fit_k_means(X, n_clusters=3, tol=0.0001, max_iter=300):\n",
        "  \"\"\"Compute k-means clustering\n",
        "\n",
        "  Parameters\n",
        "  ----------\n",
        "\n",
        "  X : {array-like, sparse matrix} of shape (n_samples, n_features)\n",
        "    Set of 2d points that will be clustered.\n",
        "\n",
        "  n_clusters : int, default=3\n",
        "    The number of clusters to form as well as the number of\n",
        "    centroids to generate.\n",
        "\n",
        "  tol : float, default=1e-4\n",
        "    Relative tolerance with regards to Frobenius norm of the difference\n",
        "    in the cluster centers of two consecutive iterations to declare\n",
        "    convergence.\n",
        "\n",
        "  max_iter : int, default=300\n",
        "    Maximum number of iterations of the k-means algorithm for a\n",
        "    single run.\n",
        "\n",
        "  Returns\n",
        "  -------\n",
        "  cluster_centers_ndarray of shape (n_clusters, n_features)\n",
        "    Coordinates of cluster centers.\n",
        "  \"\"\"\n",
        "  # 1 - definir a quantidade de cluster\n",
        "  # 2 - sortear as coordenadas iniciais para cada um dos k centroides\n",
        "  #     2.1 - sortear quaisquer coordenadas\n",
        "  #     2.2 - sortear pontos do próprio conjunto de dados\n",
        "  # 3 - calcular a distância de cada ponto para cada centroide\n",
        "  #     como calcular distância entre dois pontos (x1, y1), (x2, y2)? \n",
        "  #     distância euclidiana! \n",
        "  #     d = raiz quadrada de (x1 - x2)² + (y1 - y2)²\n",
        "  # 4 - associar cada ponto ao centroide mais próximo\n",
        "  # 5 - atualizar as coordenada de cada centroide\n",
        "  #     as novas coordenadas de cada centroide são calculadas como sendo a média\n",
        "  #     das coordenadas de todos os pontos associados aquele centroide\n",
        "  # 6 - executar os passos de 3 a 5 até que os centroides não alterem mais suas\n",
        "  #     posições ou que elas variem muito pouco\n",
        "  # 7 - retornar as coordenadas dos centroides como resultado do algoritmo\n",
        "\n",
        "  initial_points = pick_random_itens(X, n_clusters)\n",
        "  print(initial_points)\n",
        "  \n",
        "  return 'centroids finais'"
      ],
      "execution_count": 7,
      "outputs": []
    },
    {
      "cell_type": "code",
      "metadata": {
        "colab": {
          "base_uri": "https://localhost:8080/",
          "height": 86
        },
        "id": "lcF1kFzdDhcK",
        "outputId": "3649d669-fb40-4751-f39b-b26a62d44896"
      },
      "source": [
        "fit_k_means(X)"
      ],
      "execution_count": 8,
      "outputs": [
        {
          "output_type": "stream",
          "text": [
            "[[10  0]\n",
            " [ 1  0]\n",
            " [ 1  2]]\n"
          ],
          "name": "stdout"
        },
        {
          "output_type": "execute_result",
          "data": {
            "application/vnd.google.colaboratory.intrinsic+json": {
              "type": "string"
            },
            "text/plain": [
              "'centroids finais'"
            ]
          },
          "metadata": {
            "tags": []
          },
          "execution_count": 8
        }
      ]
    }
  ]
}