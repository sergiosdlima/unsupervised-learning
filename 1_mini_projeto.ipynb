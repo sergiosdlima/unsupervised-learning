{
  "nbformat": 4,
  "nbformat_minor": 0,
  "metadata": {
    "colab": {
      "name": "1-mini-projeto.ipynb",
      "provenance": [],
      "collapsed_sections": [],
      "authorship_tag": "ABX9TyPvuBuf6FuhDpUEt9riUsg8",
      "include_colab_link": true
    },
    "kernelspec": {
      "name": "python3",
      "display_name": "Python 3"
    }
  },
  "cells": [
    {
      "cell_type": "markdown",
      "metadata": {
        "id": "view-in-github",
        "colab_type": "text"
      },
      "source": [
        "<a href=\"https://colab.research.google.com/github/sergiosdlima/unsupervised-learning/blob/main/1_mini_projeto.ipynb\" target=\"_parent\"><img src=\"https://colab.research.google.com/assets/colab-badge.svg\" alt=\"Open In Colab\"/></a>"
      ]
    },
    {
      "cell_type": "code",
      "metadata": {
        "id": "dDLduhWyrzmE"
      },
      "source": [
        "from sklearn.cluster import KMeans\n",
        "import numpy as np"
      ],
      "execution_count": null,
      "outputs": []
    },
    {
      "cell_type": "code",
      "metadata": {
        "colab": {
          "base_uri": "https://localhost:8080/"
        },
        "id": "ADS7ajJZv7TR",
        "outputId": "0205101c-77f1-41f3-80a2-a739eec8e660"
      },
      "source": [
        "X = np.array([[1, 2], [1, 4], [1, 0], [10, 2], [10, 4], [10, 0]])\n",
        "kmeans = KMeans(n_clusters=2, random_state=0).fit(X)\n",
        "kmeans.labels_"
      ],
      "execution_count": null,
      "outputs": [
        {
          "output_type": "execute_result",
          "data": {
            "text/plain": [
              "array([1, 1, 1, 0, 0, 0], dtype=int32)"
            ]
          },
          "metadata": {
            "tags": []
          },
          "execution_count": 2
        }
      ]
    },
    {
      "cell_type": "code",
      "metadata": {
        "colab": {
          "base_uri": "https://localhost:8080/"
        },
        "id": "8PshtZIXwHGE",
        "outputId": "6a9429c1-f30c-4b87-b8b6-c0a749b2f483"
      },
      "source": [
        "kmeans.predict([[0, 0], [12, 3]])"
      ],
      "execution_count": null,
      "outputs": [
        {
          "output_type": "execute_result",
          "data": {
            "text/plain": [
              "array([1, 0], dtype=int32)"
            ]
          },
          "metadata": {
            "tags": []
          },
          "execution_count": 3
        }
      ]
    },
    {
      "cell_type": "code",
      "metadata": {
        "colab": {
          "base_uri": "https://localhost:8080/"
        },
        "id": "ZpnZq50-wJ2_",
        "outputId": "9ec6b7d2-accb-41c8-9aef-f700d38520ca"
      },
      "source": [
        "kmeans.cluster_centers_"
      ],
      "execution_count": null,
      "outputs": [
        {
          "output_type": "execute_result",
          "data": {
            "text/plain": [
              "array([[10.,  2.],\n",
              "       [ 1.,  2.]])"
            ]
          },
          "metadata": {
            "tags": []
          },
          "execution_count": 4
        }
      ]
    },
    {
      "cell_type": "code",
      "metadata": {
        "id": "H4XNT-fiuyP_"
      },
      "source": [
        "# fit_k_means(pontos, parada, max_iter) Retorne os centroids finais."
      ],
      "execution_count": null,
      "outputs": []
    },
    {
      "cell_type": "code",
      "metadata": {
        "id": "FH61ikPF5q0W"
      },
      "source": [
        "def fit_k_means(X, n_clusters=3, tol=0.0001, max_iter=300):\n",
        "  \"\"\"Compute k-means clustering\n",
        "\n",
        "  Parameters\n",
        "  ----------\n",
        "\n",
        "  X : {array-like, sparse matrix} of shape (n_samples, n_features)\n",
        "    Set of 2d points that will be clustered.\n",
        "\n",
        "  n_clusters : int, default=3\n",
        "    The number of clusters to form as well as the number of\n",
        "    centroids to generate.\n",
        "\n",
        "  tol : float, default=1e-4\n",
        "    Relative tolerance with regards to Frobenius norm of the difference\n",
        "    in the cluster centers of two consecutive iterations to declare\n",
        "    convergence.\n",
        "\n",
        "  max_iter : int, default=300\n",
        "    Maximum number of iterations of the k-means algorithm for a\n",
        "    single run.\n",
        "\n",
        "  Returns\n",
        "  -------\n",
        "  cluster_centers_ndarray of shape (n_clusters, n_features)\n",
        "    Coordinates of cluster centers.\n",
        "  \"\"\"\n",
        "  # 1 - definir a quantidade de cluster\n",
        "  # 2 - sortear as coordenadas iniciais para cada um dos k centroides\n",
        "  #     2.1 - sortear quaisquer coordenadas\n",
        "  #     2.2 - sortear pontos do próprio conjunto de dados\n",
        "  # 3 - calcular a distância de cada ponto para cada centroide\n",
        "  #     como calcular distância entre dois pontos (x1, y1), (x2, y2)? \n",
        "  #     distância euclidiana! \n",
        "  #     d = raiz quadrada de (x1 - x2)² + (y1 - y2)²\n",
        "  # 4 - associar cada ponto ao centroide mais próximo\n",
        "  # 5 - atualizar as coordenada de cada centroide\n",
        "  #     as novas coordenadas de cada centroide são calculadas como sendo a média\n",
        "  #     das coordenadas de todos os pontos associados aquele centroide\n",
        "  # 6 - executar os passos de 3 a 5 até que os centroides não alterem mais suas\n",
        "  #     posições ou que elas variem muito pouco\n",
        "  # 7 - retornar as coordenadas dos centroides como resultado do algoritmo\n",
        "  return 'centroids finais'"
      ],
      "execution_count": null,
      "outputs": []
    },
    {
      "cell_type": "code",
      "metadata": {
        "colab": {
          "base_uri": "https://localhost:8080/",
          "height": 35
        },
        "id": "lcF1kFzdDhcK",
        "outputId": "7036e8fb-d005-41eb-d492-3499036da1f0"
      },
      "source": [
        "fit_k_means(X)"
      ],
      "execution_count": null,
      "outputs": [
        {
          "output_type": "execute_result",
          "data": {
            "application/vnd.google.colaboratory.intrinsic+json": {
              "type": "string"
            },
            "text/plain": [
              "'centroids finais'"
            ]
          },
          "metadata": {
            "tags": []
          },
          "execution_count": 7
        }
      ]
    }
  ]
}