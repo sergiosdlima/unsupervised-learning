{
  "nbformat": 4,
  "nbformat_minor": 0,
  "metadata": {
    "colab": {
      "name": "1-mini-projeto.ipynb",
      "provenance": [],
      "collapsed_sections": [],
      "authorship_tag": "ABX9TyPC6GZHw2Gj68fW3z+OMoZj",
      "include_colab_link": true
    },
    "kernelspec": {
      "name": "python3",
      "display_name": "Python 3"
    }
  },
  "cells": [
    {
      "cell_type": "markdown",
      "metadata": {
        "id": "view-in-github",
        "colab_type": "text"
      },
      "source": [
        "<a href=\"https://colab.research.google.com/github/sergiosdlima/unsupervised-learning/blob/main/1_mini_projeto.ipynb\" target=\"_parent\"><img src=\"https://colab.research.google.com/assets/colab-badge.svg\" alt=\"Open In Colab\"/></a>"
      ]
    },
    {
      "cell_type": "code",
      "metadata": {
        "id": "dDLduhWyrzmE"
      },
      "source": [
        "from sklearn.cluster import KMeans\n",
        "import numpy as np\n",
        "import random\n",
        "import math"
      ],
      "execution_count": 1,
      "outputs": []
    },
    {
      "cell_type": "code",
      "metadata": {
        "colab": {
          "base_uri": "https://localhost:8080/"
        },
        "id": "ADS7ajJZv7TR",
        "outputId": "3aa952c8-2637-45bc-cbeb-606c909e24f8"
      },
      "source": [
        "X = np.array([[1, 2], [1, 4], [1, 0], [10, 2], [10, 4], [10, 0]])\n",
        "kmeans = KMeans(n_clusters=2, random_state=0).fit(X)\n",
        "kmeans.labels_"
      ],
      "execution_count": 2,
      "outputs": [
        {
          "output_type": "execute_result",
          "data": {
            "text/plain": [
              "array([1, 1, 1, 0, 0, 0], dtype=int32)"
            ]
          },
          "metadata": {
            "tags": []
          },
          "execution_count": 2
        }
      ]
    },
    {
      "cell_type": "code",
      "metadata": {
        "colab": {
          "base_uri": "https://localhost:8080/"
        },
        "id": "8PshtZIXwHGE",
        "outputId": "b1ee5e22-210a-4087-b30e-a78adc169f3d"
      },
      "source": [
        "kmeans.predict([[0, 0], [12, 3]])"
      ],
      "execution_count": 3,
      "outputs": [
        {
          "output_type": "execute_result",
          "data": {
            "text/plain": [
              "array([1, 0], dtype=int32)"
            ]
          },
          "metadata": {
            "tags": []
          },
          "execution_count": 3
        }
      ]
    },
    {
      "cell_type": "code",
      "metadata": {
        "colab": {
          "base_uri": "https://localhost:8080/"
        },
        "id": "ZpnZq50-wJ2_",
        "outputId": "0dfb513f-3c87-44ee-9c6e-111e2bf2a10f"
      },
      "source": [
        "kmeans.cluster_centers_"
      ],
      "execution_count": 4,
      "outputs": [
        {
          "output_type": "execute_result",
          "data": {
            "text/plain": [
              "array([[10.,  2.],\n",
              "       [ 1.,  2.]])"
            ]
          },
          "metadata": {
            "tags": []
          },
          "execution_count": 4
        }
      ]
    },
    {
      "cell_type": "code",
      "metadata": {
        "colab": {
          "base_uri": "https://localhost:8080/"
        },
        "id": "Q4TskvUH1He3",
        "outputId": "95b85ede-40f4-4645-ee78-ba99cfadf86e"
      },
      "source": [
        "X"
      ],
      "execution_count": 5,
      "outputs": [
        {
          "output_type": "execute_result",
          "data": {
            "text/plain": [
              "array([[ 1,  2],\n",
              "       [ 1,  4],\n",
              "       [ 1,  0],\n",
              "       [10,  2],\n",
              "       [10,  4],\n",
              "       [10,  0]])"
            ]
          },
          "metadata": {
            "tags": []
          },
          "execution_count": 5
        }
      ]
    },
    {
      "cell_type": "code",
      "metadata": {
        "id": "H4XNT-fiuyP_"
      },
      "source": [
        "# fit_k_means(pontos, parada, max_iter) Retorne os centroids finais."
      ],
      "execution_count": 6,
      "outputs": []
    },
    {
      "cell_type": "code",
      "metadata": {
        "id": "K1rjoFTGEONY"
      },
      "source": [
        "def pick_random_itens(array, size=1):\n",
        "  a = np.arange(len(array))\n",
        "  choices = np.random.choice(a, size=size, replace=False)\n",
        "  return array[choices]\n",
        "\n",
        "def euclidean_distance(p1, p2):\n",
        "  dim, sum = len(p1), 0\n",
        "  for i in range(dim):\n",
        "    sum += math.pow(p1[i] - p2[i], 2)\n",
        "  return math.sqrt(sum)"
      ],
      "execution_count": 7,
      "outputs": []
    },
    {
      "cell_type": "code",
      "metadata": {
        "id": "FH61ikPF5q0W",
        "colab": {
          "base_uri": "https://localhost:8080/",
          "height": 443
        },
        "outputId": "bd583533-ad5b-47c3-e143-e0f1cc7f35f0"
      },
      "source": [
        "def fit_k_means(X, n_clusters=3, tol=0.0001, max_iter=300):\n",
        "  \"\"\"Compute k-means clustering\n",
        "\n",
        "  Parameters\n",
        "  ----------\n",
        "\n",
        "  X : {array-like, sparse matrix} of shape (n_samples, n_features)\n",
        "    Set of 2d points that will be clustered.\n",
        "\n",
        "  n_clusters : int, default=3\n",
        "    The number of clusters to form as well as the number of\n",
        "    centroids to generate.\n",
        "\n",
        "  tol : float, default=1e-4\n",
        "    Relative tolerance with regards to Frobenius norm of the difference\n",
        "    in the cluster centers of two consecutive iterations to declare\n",
        "    convergence.\n",
        "\n",
        "  max_iter : int, default=300\n",
        "    Maximum number of iterations of the k-means algorithm for a\n",
        "    single run.\n",
        "\n",
        "  Returns\n",
        "  -------\n",
        "  cluster_centers_ndarray of shape (n_clusters, n_features)\n",
        "    Coordinates of cluster centers.\n",
        "  \"\"\"\n",
        "  # 1 - definir a quantidade de cluster\n",
        "  # 2 - sortear as coordenadas iniciais para cada um dos k centroides\n",
        "  #     2.1 - sortear quaisquer coordenadas\n",
        "  #     2.2 - sortear pontos do próprio conjunto de dados\n",
        "  # 3 - calcular a distância de cada ponto para cada centroide\n",
        "  #     como calcular distância entre dois pontos (x1, y1), (x2, y2)? \n",
        "  #     distância euclidiana! \n",
        "  #     d = raiz quadrada de (x1 - x2)² + (y1 - y2)²\n",
        "  # 4 - associar cada ponto ao centroide mais próximo\n",
        "  # 5 - atualizar as coordenada de cada centroide\n",
        "  #     as novas coordenadas de cada centroide são calculadas como sendo a média\n",
        "  #     das coordenadas de todos os pontos associados aquele centroide\n",
        "  # 6 - executar os passos de 3 a 5 até que os centroides não alterem mais suas\n",
        "  #     posições ou que elas variem muito pouco\n",
        "  # 7 - retornar as coordenadas dos centroides como resultado do algoritmo\n",
        "\n",
        "  centroids = pick_random_itens(X, n_clusters)\n",
        "  print(f'centroides escolhidos: {centroids}')\n",
        "  centroids_points = []\n",
        "  for point in X:\n",
        "    dmin = -1\n",
        "    cmin = []\n",
        "    for centroid in centroids:\n",
        "      if (centroid-point).any():\n",
        "        print(f'centroid: {centroid} - point: {point} - distance: {euclidean_distance(centroid, point)}')\n",
        "        d = euclidean_distance(centroid, point)\n",
        "        if dmin < 0 or d < dmin:\n",
        "          dmin = d\n",
        "          cmin = centroid\n",
        "        # if centroid in centroids_points:\n",
        "        #   idx = centroids_points.index(centroid)\n",
        "          # centroids_points[idx]\n",
        "    print(f'ponto {point} é mais próximo do centroid {cmin}')\n",
        "    centroids_points.append(cmin)\n",
        "\n",
        "  print(f'FIM: {X} e {centroids_points}')\n",
        "  \n",
        "  return 'centroids finais'\n",
        "\n",
        "fit_k_means(X, n_clusters=2)"
      ],
      "execution_count": 11,
      "outputs": [
        {
          "output_type": "stream",
          "text": [
            "centroides escolhidos: [[ 1  4]\n",
            " [10  4]]\n",
            "centroid: [1 4] - point: [1 2] - distance: 2.0\n",
            "centroid: [10  4] - point: [1 2] - distance: 9.219544457292887\n",
            "ponto [1 2] é mais próximo do centroid [1 4]\n",
            "centroid: [10  4] - point: [1 4] - distance: 9.0\n",
            "ponto [1 4] é mais próximo do centroid [10  4]\n",
            "centroid: [1 4] - point: [1 0] - distance: 4.0\n",
            "centroid: [10  4] - point: [1 0] - distance: 9.848857801796104\n",
            "ponto [1 0] é mais próximo do centroid [1 4]\n",
            "centroid: [1 4] - point: [10  2] - distance: 9.219544457292887\n",
            "centroid: [10  4] - point: [10  2] - distance: 2.0\n",
            "ponto [10  2] é mais próximo do centroid [10  4]\n",
            "centroid: [1 4] - point: [10  4] - distance: 9.0\n",
            "ponto [10  4] é mais próximo do centroid [1 4]\n",
            "centroid: [1 4] - point: [10  0] - distance: 9.848857801796104\n",
            "centroid: [10  4] - point: [10  0] - distance: 4.0\n",
            "ponto [10  0] é mais próximo do centroid [10  4]\n",
            "FIM: [[ 1  2]\n",
            " [ 1  4]\n",
            " [ 1  0]\n",
            " [10  2]\n",
            " [10  4]\n",
            " [10  0]] e [array([1, 4]), array([10,  4]), array([1, 4]), array([10,  4]), array([1, 4]), array([10,  4])]\n"
          ],
          "name": "stdout"
        },
        {
          "output_type": "execute_result",
          "data": {
            "application/vnd.google.colaboratory.intrinsic+json": {
              "type": "string"
            },
            "text/plain": [
              "'centroids finais'"
            ]
          },
          "metadata": {
            "tags": []
          },
          "execution_count": 11
        }
      ]
    },
    {
      "cell_type": "code",
      "metadata": {
        "id": "lcF1kFzdDhcK"
      },
      "source": [
        "a = [1, 0]\n",
        "b = [2, 0]\n",
        "lista = [[1, 0]]\n",
        "\n",
        "if a in lista:\n",
        "  print('a está na lista')\n",
        "  print(f'posicao {lista.index(a)}')\n",
        "else:\n",
        "  print('a não está na lista')"
      ],
      "execution_count": null,
      "outputs": []
    },
    {
      "cell_type": "code",
      "metadata": {
        "id": "OwaFUTaHzMqa"
      },
      "source": [
        ""
      ],
      "execution_count": null,
      "outputs": []
    },
    {
      "cell_type": "markdown",
      "metadata": {
        "id": "Q0ZdZmrzy5Nn"
      },
      "source": [
        "## ref\n",
        "\n",
        "- http://prorum.com/?qa=3205/resolver-problema-pontos-proximo-possivel-abordagem-eficiente"
      ]
    }
  ]
}